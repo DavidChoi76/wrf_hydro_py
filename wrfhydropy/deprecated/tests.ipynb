{
 "cells": [
  {
   "cell_type": "markdown",
   "metadata": {},
   "source": [
    "# Running an interactive job, i.e. no scheduler"
   ]
  },
  {
   "cell_type": "code",
   "execution_count": 1,
   "metadata": {},
   "outputs": [
    {
     "name": "stdout",
     "output_type": "stream",
     "text": [
      "/home/docker\r\n"
     ]
    }
   ],
   "source": [
    "!rm -r test_interactive\n",
    "!pwd"
   ]
  },
  {
   "cell_type": "code",
   "execution_count": 2,
   "metadata": {},
   "outputs": [
    {
     "name": "stdout",
     "output_type": "stream",
     "text": [
      "Composing simulation into directory:'/home/docker/test_interactive'\n",
      "Compiling WRF-Hydro source code...\n",
      "Model successfully compiled into /home/docker/test_interactive\n",
      "Getting domain files...\n",
      "Making job directories...\n",
      "Simulation successfully composed\n"
     ]
    },
    {
     "name": "stderr",
     "output_type": "stream",
     "text": [
      "/home/docker/wrf_hydro_py/wrfhydropy/core/job.py:92: UserWarning: model start or end time was not specified in job, start end times will be used from supplied namelist\n",
      "  warnings.warn('model start or end time was not specified in job, start end times will be '\n"
     ]
    }
   ],
   "source": [
    "import wrfhydropy\n",
    "\n",
    "simulation = wrfhydropy.Simulation()\n",
    "simulation.add(wrfhydropy.Domain(domain_top_dir='/home/docker/example_case',\n",
    "                                 domain_config='NWM',\n",
    "                                 model_version='v1.2.1'))\n",
    "simulation.add(wrfhydropy.Model(source_dir='/home/docker/wrf_hydro_nwm_public-5.0.0/trunk/NDHMS',\n",
    "                                model_config='NWM'))\n",
    "simulation.add(wrfhydropy.Job(exe_cmd='mpirun -np 2 ./wrf_hydro.exe',job_id='1'))\n",
    "simulation.compose(sim_dir='test_interactive')\n"
   ]
  },
  {
   "cell_type": "code",
   "execution_count": 3,
   "metadata": {
    "scrolled": false
   },
   "outputs": [
    {
     "name": "stdout",
     "output_type": "stream",
     "text": [
      "\n",
      "Running job 1: \n",
      "    Wall start time: 2018-07-06 18:50:50\n",
      "    Model start time: 2011-08-26 00:00\n",
      "    Model end time: 2011-09-02 00:00\n"
     ]
    }
   ],
   "source": [
    "simulation.run()"
   ]
  },
  {
   "cell_type": "code",
   "execution_count": 4,
   "metadata": {},
   "outputs": [
    {
     "name": "stdout",
     "output_type": "stream",
     "text": [
      "/home/docker\r\n"
     ]
    }
   ],
   "source": [
    "!pwd"
   ]
  },
  {
   "cell_type": "markdown",
   "metadata": {},
   "source": [
    "# Running a scheduled job on cheyenne"
   ]
  },
  {
   "cell_type": "code",
   "execution_count": 5,
   "metadata": {},
   "outputs": [],
   "source": [
    "!rm -r test_scheduler"
   ]
  },
  {
   "cell_type": "code",
   "execution_count": 6,
   "metadata": {},
   "outputs": [
    {
     "name": "stdout",
     "output_type": "stream",
     "text": [
      "Composing simulation into directory:'/home/docker/test_scheduler'\n",
      "Compiling WRF-Hydro source code...\n",
      "Model successfully compiled into /home/docker/test_scheduler\n",
      "Getting domain files...\n",
      "Making job directories...\n",
      "Adding jobs to scheduler...\n",
      "Simulation successfully composed\n"
     ]
    },
    {
     "name": "stderr",
     "output_type": "stream",
     "text": [
      "/home/docker/wrf_hydro_py/wrfhydropy/core/job.py:92: UserWarning: model start or end time was not specified in job, start end times will be used from supplied namelist\n",
      "  warnings.warn('model start or end time was not specified in job, start end times will be '\n"
     ]
    }
   ],
   "source": [
    "import wrfhydropy\n",
    "\n",
    "simulation = wrfhydropy.Simulation()\n",
    "simulation.add(wrfhydropy.Domain(domain_top_dir='/home/docker/example_case',\n",
    "                                 domain_config='NWM',\n",
    "                                 model_version='v1.2.1'))\n",
    "simulation.add(wrfhydropy.Model(source_dir='/home/docker/wrf_hydro_nwm_public-5.0.0/trunk/NDHMS',\n",
    "                                model_config='NWM'))\n",
    "simulation.add(wrfhydropy.Job(exe_cmd='mpirun -np 2 ./wrf_hydro.exe',job_id='1'))\n",
    "simulation.add(wrfhydropy.schedulers.PBSCheyenne(account='NRAL0017'))\n",
    "simulation.compose(sim_dir='test_scheduler')"
   ]
  },
  {
   "cell_type": "code",
   "execution_count": 7,
   "metadata": {},
   "outputs": [],
   "source": [
    "simulation.run()"
   ]
  },
  {
   "cell_type": "code",
   "execution_count": 8,
   "metadata": {},
   "outputs": [
    {
     "name": "stdout",
     "output_type": "stream",
     "text": [
      "\r\n",
      "Running job 1: \r\n",
      "    Wall start time: 2018-07-06 18:51:12\r\n",
      "    Model start time: 2011-08-26 00:00\r\n",
      "    Model end time: 2011-09-02 00:00\r\n"
     ]
    }
   ],
   "source": [
    "!cd test_scheduler; python run_job.py --job_id 1"
   ]
  },
  {
   "cell_type": "code",
   "execution_count": null,
   "metadata": {},
   "outputs": [],
   "source": []
  }
 ],
 "metadata": {
  "kernelspec": {
   "display_name": "Python 3",
   "language": "python",
   "name": "python3"
  },
  "language_info": {
   "codemirror_mode": {
    "name": "ipython",
    "version": 3
   },
   "file_extension": ".py",
   "mimetype": "text/x-python",
   "name": "python",
   "nbconvert_exporter": "python",
   "pygments_lexer": "ipython3",
   "version": "3.6.4"
  }
 },
 "nbformat": 4,
 "nbformat_minor": 2
}
